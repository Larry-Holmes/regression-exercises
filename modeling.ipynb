{
 "cells": [
  {
   "cell_type": "code",
   "execution_count": 1,
   "id": "1bdf76f4-fe99-4b01-b3a6-6febdc8f9070",
   "metadata": {},
   "outputs": [],
   "source": [
    "import pandas as pd\n",
    "import numpy as np\n",
    "import wrangle\n",
    "import matplotlib.pyplot as plt\n",
    "import seaborn as sns\n",
    "\n",
    "from sklearn.metrics import mean_squared_error\n",
    "from sklearn.linear_model import LinearRegression, LassoLars, TweedieRegressor\n",
    "from sklearn.preprocessing import PolynomialFeatures\n",
    "\n",
    "import warnings\n",
    "warnings.filterwarnings(\"ignore\")"
   ]
  },
  {
   "cell_type": "code",
   "execution_count": 2,
   "id": "6db948e7-f6a0-4615-bf74-26ca273bf9d9",
   "metadata": {},
   "outputs": [
    {
     "data": {
      "text/html": [
       "<div>\n",
       "<style scoped>\n",
       "    .dataframe tbody tr th:only-of-type {\n",
       "        vertical-align: middle;\n",
       "    }\n",
       "\n",
       "    .dataframe tbody tr th {\n",
       "        vertical-align: top;\n",
       "    }\n",
       "\n",
       "    .dataframe thead th {\n",
       "        text-align: right;\n",
       "    }\n",
       "</style>\n",
       "<table border=\"1\" class=\"dataframe\">\n",
       "  <thead>\n",
       "    <tr style=\"text-align: right;\">\n",
       "      <th></th>\n",
       "      <th>bedrooms</th>\n",
       "      <th>bathrooms</th>\n",
       "      <th>area</th>\n",
       "      <th>tax_value</th>\n",
       "      <th>yearbuilt</th>\n",
       "      <th>taxamount</th>\n",
       "      <th>fips</th>\n",
       "    </tr>\n",
       "  </thead>\n",
       "  <tbody>\n",
       "    <tr>\n",
       "      <th>6</th>\n",
       "      <td>3.0</td>\n",
       "      <td>4.0</td>\n",
       "      <td>1620.0</td>\n",
       "      <td>847770.0</td>\n",
       "      <td>2011.0</td>\n",
       "      <td>10244.94</td>\n",
       "      <td>6037.0</td>\n",
       "    </tr>\n",
       "    <tr>\n",
       "      <th>7</th>\n",
       "      <td>3.0</td>\n",
       "      <td>2.0</td>\n",
       "      <td>2077.0</td>\n",
       "      <td>646760.0</td>\n",
       "      <td>1926.0</td>\n",
       "      <td>7924.68</td>\n",
       "      <td>6037.0</td>\n",
       "    </tr>\n",
       "    <tr>\n",
       "      <th>18</th>\n",
       "      <td>3.0</td>\n",
       "      <td>1.0</td>\n",
       "      <td>1244.0</td>\n",
       "      <td>169471.0</td>\n",
       "      <td>1950.0</td>\n",
       "      <td>2532.88</td>\n",
       "      <td>6037.0</td>\n",
       "    </tr>\n",
       "    <tr>\n",
       "      <th>19</th>\n",
       "      <td>3.0</td>\n",
       "      <td>2.0</td>\n",
       "      <td>1300.0</td>\n",
       "      <td>233266.0</td>\n",
       "      <td>1950.0</td>\n",
       "      <td>3110.99</td>\n",
       "      <td>6037.0</td>\n",
       "    </tr>\n",
       "    <tr>\n",
       "      <th>20</th>\n",
       "      <td>3.0</td>\n",
       "      <td>2.0</td>\n",
       "      <td>1222.0</td>\n",
       "      <td>290492.0</td>\n",
       "      <td>1951.0</td>\n",
       "      <td>3870.25</td>\n",
       "      <td>6037.0</td>\n",
       "    </tr>\n",
       "  </tbody>\n",
       "</table>\n",
       "</div>"
      ],
      "text/plain": [
       "    bedrooms  bathrooms    area  tax_value  yearbuilt  taxamount    fips\n",
       "6        3.0        4.0  1620.0   847770.0     2011.0   10244.94  6037.0\n",
       "7        3.0        2.0  2077.0   646760.0     1926.0    7924.68  6037.0\n",
       "18       3.0        1.0  1244.0   169471.0     1950.0    2532.88  6037.0\n",
       "19       3.0        2.0  1300.0   233266.0     1950.0    3110.99  6037.0\n",
       "20       3.0        2.0  1222.0   290492.0     1951.0    3870.25  6037.0"
      ]
     },
     "execution_count": 2,
     "metadata": {},
     "output_type": "execute_result"
    }
   ],
   "source": [
    "df = wrangle.wrangle_zillow()\n",
    "df.head()"
   ]
  },
  {
   "cell_type": "code",
   "execution_count": 3,
   "id": "9a543b01-9696-463c-beff-ad2d160fcf42",
   "metadata": {},
   "outputs": [],
   "source": [
    "X_train, y_train, X_validate, y_validate, X_test, y_test = wrangle.train_validate_test(df, 'tax_value')"
   ]
  },
  {
   "cell_type": "code",
   "execution_count": 4,
   "id": "e7d729a4-9c6b-452c-a8cc-545afedc551e",
   "metadata": {},
   "outputs": [
    {
     "data": {
      "text/html": [
       "<div>\n",
       "<style scoped>\n",
       "    .dataframe tbody tr th:only-of-type {\n",
       "        vertical-align: middle;\n",
       "    }\n",
       "\n",
       "    .dataframe tbody tr th {\n",
       "        vertical-align: top;\n",
       "    }\n",
       "\n",
       "    .dataframe thead th {\n",
       "        text-align: right;\n",
       "    }\n",
       "</style>\n",
       "<table border=\"1\" class=\"dataframe\">\n",
       "  <thead>\n",
       "    <tr style=\"text-align: right;\">\n",
       "      <th></th>\n",
       "      <th>bedrooms</th>\n",
       "      <th>bathrooms</th>\n",
       "      <th>area</th>\n",
       "      <th>yearbuilt</th>\n",
       "      <th>taxamount</th>\n",
       "      <th>fips</th>\n",
       "    </tr>\n",
       "  </thead>\n",
       "  <tbody>\n",
       "    <tr>\n",
       "      <th>894604</th>\n",
       "      <td>4.0</td>\n",
       "      <td>2.0</td>\n",
       "      <td>1694.0</td>\n",
       "      <td>1972.0</td>\n",
       "      <td>5289.08</td>\n",
       "      <td>6111.0</td>\n",
       "    </tr>\n",
       "    <tr>\n",
       "      <th>221576</th>\n",
       "      <td>3.0</td>\n",
       "      <td>3.0</td>\n",
       "      <td>2284.0</td>\n",
       "      <td>1990.0</td>\n",
       "      <td>5242.36</td>\n",
       "      <td>6037.0</td>\n",
       "    </tr>\n",
       "    <tr>\n",
       "      <th>2076710</th>\n",
       "      <td>3.0</td>\n",
       "      <td>2.5</td>\n",
       "      <td>1799.0</td>\n",
       "      <td>1968.0</td>\n",
       "      <td>766.38</td>\n",
       "      <td>6059.0</td>\n",
       "    </tr>\n",
       "    <tr>\n",
       "      <th>1051549</th>\n",
       "      <td>3.0</td>\n",
       "      <td>1.0</td>\n",
       "      <td>1024.0</td>\n",
       "      <td>1949.0</td>\n",
       "      <td>899.90</td>\n",
       "      <td>6037.0</td>\n",
       "    </tr>\n",
       "    <tr>\n",
       "      <th>1575944</th>\n",
       "      <td>2.0</td>\n",
       "      <td>1.0</td>\n",
       "      <td>660.0</td>\n",
       "      <td>1924.0</td>\n",
       "      <td>1533.73</td>\n",
       "      <td>6037.0</td>\n",
       "    </tr>\n",
       "    <tr>\n",
       "      <th>...</th>\n",
       "      <td>...</td>\n",
       "      <td>...</td>\n",
       "      <td>...</td>\n",
       "      <td>...</td>\n",
       "      <td>...</td>\n",
       "      <td>...</td>\n",
       "    </tr>\n",
       "    <tr>\n",
       "      <th>51283</th>\n",
       "      <td>4.0</td>\n",
       "      <td>2.5</td>\n",
       "      <td>2565.0</td>\n",
       "      <td>1969.0</td>\n",
       "      <td>8181.02</td>\n",
       "      <td>6059.0</td>\n",
       "    </tr>\n",
       "    <tr>\n",
       "      <th>979022</th>\n",
       "      <td>3.0</td>\n",
       "      <td>2.5</td>\n",
       "      <td>1812.0</td>\n",
       "      <td>1964.0</td>\n",
       "      <td>741.70</td>\n",
       "      <td>6059.0</td>\n",
       "    </tr>\n",
       "    <tr>\n",
       "      <th>1102170</th>\n",
       "      <td>5.0</td>\n",
       "      <td>4.0</td>\n",
       "      <td>2684.0</td>\n",
       "      <td>1948.0</td>\n",
       "      <td>3833.15</td>\n",
       "      <td>6037.0</td>\n",
       "    </tr>\n",
       "    <tr>\n",
       "      <th>1089315</th>\n",
       "      <td>4.0</td>\n",
       "      <td>2.0</td>\n",
       "      <td>1347.0</td>\n",
       "      <td>1962.0</td>\n",
       "      <td>5325.89</td>\n",
       "      <td>6037.0</td>\n",
       "    </tr>\n",
       "    <tr>\n",
       "      <th>244127</th>\n",
       "      <td>3.0</td>\n",
       "      <td>2.0</td>\n",
       "      <td>1184.0</td>\n",
       "      <td>1961.0</td>\n",
       "      <td>2150.33</td>\n",
       "      <td>6037.0</td>\n",
       "    </tr>\n",
       "  </tbody>\n",
       "</table>\n",
       "<p>1038469 rows × 6 columns</p>\n",
       "</div>"
      ],
      "text/plain": [
       "         bedrooms  bathrooms    area  yearbuilt  taxamount    fips\n",
       "894604        4.0        2.0  1694.0     1972.0    5289.08  6111.0\n",
       "221576        3.0        3.0  2284.0     1990.0    5242.36  6037.0\n",
       "2076710       3.0        2.5  1799.0     1968.0     766.38  6059.0\n",
       "1051549       3.0        1.0  1024.0     1949.0     899.90  6037.0\n",
       "1575944       2.0        1.0   660.0     1924.0    1533.73  6037.0\n",
       "...           ...        ...     ...        ...        ...     ...\n",
       "51283         4.0        2.5  2565.0     1969.0    8181.02  6059.0\n",
       "979022        3.0        2.5  1812.0     1964.0     741.70  6059.0\n",
       "1102170       5.0        4.0  2684.0     1948.0    3833.15  6037.0\n",
       "1089315       4.0        2.0  1347.0     1962.0    5325.89  6037.0\n",
       "244127        3.0        2.0  1184.0     1961.0    2150.33  6037.0\n",
       "\n",
       "[1038469 rows x 6 columns]"
      ]
     },
     "execution_count": 4,
     "metadata": {},
     "output_type": "execute_result"
    }
   ],
   "source": [
    "X_train"
   ]
  },
  {
   "cell_type": "code",
   "execution_count": 5,
   "id": "5481c4d6-fa5d-4241-b184-808530a3daee",
   "metadata": {},
   "outputs": [
    {
     "data": {
      "text/plain": [
       "894604     393986.0\n",
       "221576     411257.0\n",
       "2076710     79563.0\n",
       "1051549     50267.0\n",
       "1575944    120734.0\n",
       "             ...   \n",
       "51283      700000.0\n",
       "979022      71447.0\n",
       "1102170    300298.0\n",
       "1089315    426200.0\n",
       "244127     158430.0\n",
       "Name: tax_value, Length: 1038469, dtype: float64"
      ]
     },
     "execution_count": 5,
     "metadata": {},
     "output_type": "execute_result"
    }
   ],
   "source": [
    "y_train"
   ]
  },
  {
   "cell_type": "code",
   "execution_count": 6,
   "id": "f13590fb-6277-4b9e-be86-ff9536667364",
   "metadata": {},
   "outputs": [
    {
     "data": {
      "image/png": "[encoded data removed]",
      "text/plain": [
       "<Figure size 432x288 with 1 Axes>"
      ]
     },
     "metadata": {
      "needs_background": "light"
     },
     "output_type": "display_data"
    }
   ],
   "source": [
    "plt.hist(y_train)\n",
    "plt.xlabel('Home Value')\n",
    "plt.ylabel('Number of Properties')\n",
    "plt.show()\n"
   ]
  },
  {
   "cell_type": "code",
   "execution_count": 7,
   "id": "9253004c-7aac-4939-9456-ca3c839309e5",
   "metadata": {},
   "outputs": [],
   "source": [
    "y_train = pd.DataFrame(y_train)\n",
    "y_validate = pd.DataFrame(y_validate)"
   ]
  },
  {
   "cell_type": "code",
   "execution_count": 8,
   "id": "75bdcf72-20cc-43b3-b1da-77473793b8e2",
   "metadata": {},
   "outputs": [],
   "source": [
    "tax_value_mean = y_train['tax_value'].mean()\n",
    "y_train['tax_value_mean'] = tax_value_mean\n",
    "y_validate['tax_value_mean'] = tax_value_mean"
   ]
  },
  {
   "cell_type": "code",
   "execution_count": 9,
   "id": "c424db9e-785d-4c25-8d14-8711d11ee480",
   "metadata": {},
   "outputs": [
    {
     "name": "stdout",
     "output_type": "stream",
     "text": [
      "RMSE using Mean\n",
      "Train/In-Sample:  198922.35 \n",
      "Validate/Out-of-Sample:  199306.98\n"
     ]
    }
   ],
   "source": [
    "rmse_train = mean_squared_error(y_train.tax_value, y_train.tax_value_mean) ** .5\n",
    "rmse_validate = mean_squared_error(y_validate.tax_value, y_validate.tax_value_mean) ** .5\n",
    "\n",
    "print('RMSE using Mean\\nTrain/In-Sample: ', round(rmse_train,2),\n",
    "      '\\nValidate/Out-of-Sample: ', round(rmse_validate, 2))"
   ]
  },
  {
   "cell_type": "code",
   "execution_count": 10,
   "id": "9ccc25cb-0194-4bc1-b5b3-f633224b2e85",
   "metadata": {},
   "outputs": [],
   "source": [
    "from sklearn.metrics import explained_variance_score"
   ]
  },
  {
   "cell_type": "code",
   "execution_count": 11,
   "id": "541aa4a7-ec30-46c3-913e-eae7b160b742",
   "metadata": {},
   "outputs": [],
   "source": [
    "metric_df = pd.DataFrame(\n",
    "    data=[{\n",
    "        'model': 'mean_baseline',\n",
    "        'rmse_validate': rmse_validate,\n",
    "        'r^2_validate': explained_variance_score(y_validate.tax_value, y_validate.tax_value_mean)\n",
    "    }])"
   ]
  },
  {
   "cell_type": "code",
   "execution_count": 12,
   "id": "5790fc29-9cb9-46c4-b7da-47b181663fcf",
   "metadata": {},
   "outputs": [
    {
     "data": {
      "text/html": [
       "<div>\n",
       "<style scoped>\n",
       "    .dataframe tbody tr th:only-of-type {\n",
       "        vertical-align: middle;\n",
       "    }\n",
       "\n",
       "    .dataframe tbody tr th {\n",
       "        vertical-align: top;\n",
       "    }\n",
       "\n",
       "    .dataframe thead th {\n",
       "        text-align: right;\n",
       "    }\n",
       "</style>\n",
       "<table border=\"1\" class=\"dataframe\">\n",
       "  <thead>\n",
       "    <tr style=\"text-align: right;\">\n",
       "      <th></th>\n",
       "      <th>model</th>\n",
       "      <th>rmse_validate</th>\n",
       "      <th>r^2_validate</th>\n",
       "    </tr>\n",
       "  </thead>\n",
       "  <tbody>\n",
       "    <tr>\n",
       "      <th>0</th>\n",
       "      <td>mean_baseline</td>\n",
       "      <td>199306.978631</td>\n",
       "      <td>0.0</td>\n",
       "    </tr>\n",
       "  </tbody>\n",
       "</table>\n",
       "</div>"
      ],
      "text/plain": [
       "           model  rmse_validate  r^2_validate\n",
       "0  mean_baseline  199306.978631           0.0"
      ]
     },
     "execution_count": 12,
     "metadata": {},
     "output_type": "execute_result"
    }
   ],
   "source": [
    "metric_df"
   ]
  },
  {
   "cell_type": "markdown",
   "id": "a37b2614-582b-459f-bb6d-c48e64f11925",
   "metadata": {},
   "source": [
    "# LinearRegression (OLS)"
   ]
  },
  {
   "cell_type": "code",
   "execution_count": 13,
   "id": "b49c288f-b6a2-492a-8d91-59e684cecebf",
   "metadata": {},
   "outputs": [
    {
     "name": "stdout",
     "output_type": "stream",
     "text": [
      "RMSE for OLS using LinearRegression\n",
      "Train/In-Sample:  46067.64 \n",
      "Validate/Out-of-Sample:  46014.59\n"
     ]
    }
   ],
   "source": [
    "lm = LinearRegression()\n",
    "\n",
    "lm.fit(X_train, y_train.tax_value)\n",
    "\n",
    "y_train['tv_pred_lm'] = lm.predict(X_train)\n",
    "y_validate['tv_pred_lm'] = lm.predict(X_validate)\n",
    "\n",
    "rmse_train = mean_squared_error(y_train.tax_value, y_train.tv_pred_lm) ** .5\n",
    "rmse_validate = mean_squared_error(y_validate.tax_value, y_validate.tv_pred_lm) ** .5\n",
    "\n",
    "print('RMSE for OLS using LinearRegression\\nTrain/In-Sample: ', round(rmse_train,2),\n",
    "      '\\nValidate/Out-of-Sample: ', round(rmse_validate, 2))"
   ]
  },
  {
   "cell_type": "code",
   "execution_count": 14,
   "id": "f8ada5fe-9268-4bf4-9b88-fccfd2ef974e",
   "metadata": {},
   "outputs": [],
   "source": [
    "metric_df = metric_df.append(\n",
    "    {\n",
    "        'model': 'OLS',\n",
    "        'rmse_validate': rmse_validate,\n",
    "        'r^2_validate': explained_variance_score(y_validate.tax_value, y_validate.tv_pred_lm)\n",
    "    }, ignore_index=True)"
   ]
  },
  {
   "cell_type": "code",
   "execution_count": 15,
   "id": "17038ee3-afaa-4f56-9345-048d2102d5df",
   "metadata": {},
   "outputs": [
    {
     "data": {
      "text/html": [
       "<div>\n",
       "<style scoped>\n",
       "    .dataframe tbody tr th:only-of-type {\n",
       "        vertical-align: middle;\n",
       "    }\n",
       "\n",
       "    .dataframe tbody tr th {\n",
       "        vertical-align: top;\n",
       "    }\n",
       "\n",
       "    .dataframe thead th {\n",
       "        text-align: right;\n",
       "    }\n",
       "</style>\n",
       "<table border=\"1\" class=\"dataframe\">\n",
       "  <thead>\n",
       "    <tr style=\"text-align: right;\">\n",
       "      <th></th>\n",
       "      <th>model</th>\n",
       "      <th>rmse_validate</th>\n",
       "      <th>r^2_validate</th>\n",
       "    </tr>\n",
       "  </thead>\n",
       "  <tbody>\n",
       "    <tr>\n",
       "      <th>0</th>\n",
       "      <td>mean_baseline</td>\n",
       "      <td>199306.978631</td>\n",
       "      <td>0.000000</td>\n",
       "    </tr>\n",
       "    <tr>\n",
       "      <th>1</th>\n",
       "      <td>OLS</td>\n",
       "      <td>46014.591430</td>\n",
       "      <td>0.946697</td>\n",
       "    </tr>\n",
       "  </tbody>\n",
       "</table>\n",
       "</div>"
      ],
      "text/plain": [
       "           model  rmse_validate  r^2_validate\n",
       "0  mean_baseline  199306.978631      0.000000\n",
       "1            OLS   46014.591430      0.946697"
      ]
     },
     "execution_count": 15,
     "metadata": {},
     "output_type": "execute_result"
    }
   ],
   "source": [
    "metric_df"
   ]
  },
  {
   "cell_type": "markdown",
   "id": "0486da6d-de00-40b7-a141-47e4be7c43d6",
   "metadata": {},
   "source": [
    "# LassoLars"
   ]
  },
  {
   "cell_type": "code",
   "execution_count": 21,
   "id": "ae6ef1bc-a34d-49f3-bdc4-c9b226bd4cdc",
   "metadata": {},
   "outputs": [
    {
     "name": "stdout",
     "output_type": "stream",
     "text": [
      "RMSE for LassoLars\n",
      "Train/In-Sample:  46177.78 \n",
      "Validate/Out-of-Sample:  46115.24\n"
     ]
    }
   ],
   "source": [
    "lars = LassoLars(alpha=1)\n",
    "\n",
    "lars.fit(X_train, y_train.tax_value)\n",
    "\n",
    "y_train['tv_pred_lars'] = lars.predict(X_train)\n",
    "y_validate['tv_pred_lars'] = lars.predict(X_validate)\n",
    "\n",
    "rmse_train = mean_squared_error(y_train.tax_value, y_train.tv_pred_lars) ** .5\n",
    "rmse_validate = mean_squared_error(y_validate.tax_value, y_validate.tv_pred_lars) ** .5\n",
    "\n",
    "print('RMSE for LassoLars\\nTrain/In-Sample: ', round(rmse_train,2),\n",
    "      '\\nValidate/Out-of-Sample: ', round(rmse_validate, 2))"
   ]
  },
  {
   "cell_type": "code",
   "execution_count": 17,
   "id": "b3ed3b12-c23f-429a-82aa-6b4b5b4d1fda",
   "metadata": {},
   "outputs": [],
   "source": [
    "metric_df = metric_df.append(\n",
    "{\n",
    "    'model': 'LassoLars alpha 1',\n",
    "    'rmse_validate': rmse_validate, \n",
    "    'r^2_validate':explained_variance_score(y_validate.tax_value,\n",
    "                                           y_validate.tv_pred_lars)\n",
    "}, ignore_index=True)"
   ]
  },
  {
   "cell_type": "code",
   "execution_count": 18,
   "id": "329efe86-f366-4067-9707-3dbb122275ef",
   "metadata": {},
   "outputs": [
    {
     "data": {
      "text/html": [
       "<div>\n",
       "<style scoped>\n",
       "    .dataframe tbody tr th:only-of-type {\n",
       "        vertical-align: middle;\n",
       "    }\n",
       "\n",
       "    .dataframe tbody tr th {\n",
       "        vertical-align: top;\n",
       "    }\n",
       "\n",
       "    .dataframe thead th {\n",
       "        text-align: right;\n",
       "    }\n",
       "</style>\n",
       "<table border=\"1\" class=\"dataframe\">\n",
       "  <thead>\n",
       "    <tr style=\"text-align: right;\">\n",
       "      <th></th>\n",
       "      <th>model</th>\n",
       "      <th>rmse_validate</th>\n",
       "      <th>r^2_validate</th>\n",
       "    </tr>\n",
       "  </thead>\n",
       "  <tbody>\n",
       "    <tr>\n",
       "      <th>0</th>\n",
       "      <td>mean_baseline</td>\n",
       "      <td>199306.978631</td>\n",
       "      <td>0.000000</td>\n",
       "    </tr>\n",
       "    <tr>\n",
       "      <th>1</th>\n",
       "      <td>OLS</td>\n",
       "      <td>46014.591430</td>\n",
       "      <td>0.946697</td>\n",
       "    </tr>\n",
       "    <tr>\n",
       "      <th>2</th>\n",
       "      <td>LassoLars alpha 1</td>\n",
       "      <td>46115.240776</td>\n",
       "      <td>0.946464</td>\n",
       "    </tr>\n",
       "  </tbody>\n",
       "</table>\n",
       "</div>"
      ],
      "text/plain": [
       "               model  rmse_validate  r^2_validate\n",
       "0      mean_baseline  199306.978631      0.000000\n",
       "1                OLS   46014.591430      0.946697\n",
       "2  LassoLars alpha 1   46115.240776      0.946464"
      ]
     },
     "execution_count": 18,
     "metadata": {},
     "output_type": "execute_result"
    }
   ],
   "source": [
    "metric_df"
   ]
  },
  {
   "cell_type": "markdown",
   "id": "c1e0b50b-c94d-4e3c-b054-95e5a4817030",
   "metadata": {},
   "source": [
    "# GLM"
   ]
  },
  {
   "cell_type": "code",
   "execution_count": 26,
   "id": "5e5e9f30-ee66-42b4-b01e-43f369be14e3",
   "metadata": {},
   "outputs": [
    {
     "name": "stdout",
     "output_type": "stream",
     "text": [
      "RMSE for GLM using TweedieRegressor, power = 2 & alpha =0\n",
      "Train/In-Sample:  198922.35 \n",
      "Validate/Out-of-Sample:  199306.98\n"
     ]
    }
   ],
   "source": [
    "glm = TweedieRegressor(power = 2, alpha = 0)\n",
    "\n",
    "glm.fit(X_train, y_train.tax_value)\n",
    "\n",
    "y_train['tv_pred_glm'] = glm.predict(X_train)\n",
    "y_validate['tv_pred_glm'] = glm.predict(X_validate)\n",
    "\n",
    "rmse_train = mean_squared_error(y_train.tax_value, y_train.tv_pred_glm) ** .5\n",
    "rmse_validate = mean_squared_error(y_validate.tax_value, y_validate.tv_pred_glm) ** .5\n",
    "\n",
    "print('RMSE for GLM using TweedieRegressor, power = 2 & alpha =0\\nTrain/In-Sample: ', round(rmse_train,2),\n",
    "      '\\nValidate/Out-of-Sample: ', round(rmse_validate, 2))"
   ]
  },
  {
   "cell_type": "code",
   "execution_count": 27,
   "id": "0359b82f-f1d8-4b97-9b85-00e13ceb91eb",
   "metadata": {},
   "outputs": [],
   "source": [
    "metric_df = metric_df.append(\n",
    "{\n",
    "    'model': 'GLM power 2 & alpha 0',\n",
    "    'rmse_validate': rmse_validate, \n",
    "    'r^2_validate':explained_variance_score(y_validate.tax_value,\n",
    "                                           y_validate.tv_pred_glm)\n",
    "}, ignore_index=True)"
   ]
  },
  {
   "cell_type": "code",
   "execution_count": 28,
   "id": "28da3ccf-3a2a-47b7-b4cf-b982c2864485",
   "metadata": {},
   "outputs": [
    {
     "data": {
      "text/html": [
       "<div>\n",
       "<style scoped>\n",
       "    .dataframe tbody tr th:only-of-type {\n",
       "        vertical-align: middle;\n",
       "    }\n",
       "\n",
       "    .dataframe tbody tr th {\n",
       "        vertical-align: top;\n",
       "    }\n",
       "\n",
       "    .dataframe thead th {\n",
       "        text-align: right;\n",
       "    }\n",
       "</style>\n",
       "<table border=\"1\" class=\"dataframe\">\n",
       "  <thead>\n",
       "    <tr style=\"text-align: right;\">\n",
       "      <th></th>\n",
       "      <th>model</th>\n",
       "      <th>rmse_validate</th>\n",
       "      <th>r^2_validate</th>\n",
       "    </tr>\n",
       "  </thead>\n",
       "  <tbody>\n",
       "    <tr>\n",
       "      <th>0</th>\n",
       "      <td>mean_baseline</td>\n",
       "      <td>199306.978631</td>\n",
       "      <td>0.000000</td>\n",
       "    </tr>\n",
       "    <tr>\n",
       "      <th>1</th>\n",
       "      <td>OLS</td>\n",
       "      <td>46014.591430</td>\n",
       "      <td>0.946697</td>\n",
       "    </tr>\n",
       "    <tr>\n",
       "      <th>2</th>\n",
       "      <td>LassoLars alpha 1</td>\n",
       "      <td>46115.240776</td>\n",
       "      <td>0.946464</td>\n",
       "    </tr>\n",
       "    <tr>\n",
       "      <th>3</th>\n",
       "      <td>GLM power 2 &amp; alpha 0</td>\n",
       "      <td>199306.978631</td>\n",
       "      <td>0.000000</td>\n",
       "    </tr>\n",
       "  </tbody>\n",
       "</table>\n",
       "</div>"
      ],
      "text/plain": [
       "                   model  rmse_validate  r^2_validate\n",
       "0          mean_baseline  199306.978631      0.000000\n",
       "1                    OLS   46014.591430      0.946697\n",
       "2      LassoLars alpha 1   46115.240776      0.946464\n",
       "3  GLM power 2 & alpha 0  199306.978631      0.000000"
      ]
     },
     "execution_count": 28,
     "metadata": {},
     "output_type": "execute_result"
    }
   ],
   "source": [
    "metric_df"
   ]
  },
  {
   "cell_type": "markdown",
   "id": "28e12c57-5ea1-492a-8ee6-2185b5769af3",
   "metadata": {},
   "source": [
    "# PolynomialFeatures"
   ]
  },
  {
   "cell_type": "code",
   "execution_count": 29,
   "id": "856f7dcc-5795-48a5-9ecf-9aeea2f0945c",
   "metadata": {},
   "outputs": [],
   "source": [
    "pf = PolynomialFeatures(degree = 2)\n",
    "\n",
    "X_train_d2 = pf.fit_transform(X_train)\n",
    "\n",
    "X_validate_d2 = pf.transform(X_validate)"
   ]
  },
  {
   "cell_type": "code",
   "execution_count": 30,
   "id": "a1b13ce9-2624-4a2d-a554-873be44a98d6",
   "metadata": {},
   "outputs": [
    {
     "data": {
      "text/plain": [
       "LinearRegression(normalize=True)"
      ]
     },
     "execution_count": 30,
     "metadata": {},
     "output_type": "execute_result"
    }
   ],
   "source": [
    "lm2 = LinearRegression(normalize=True)\n",
    "\n",
    "lm2.fit(X_train_d2, y_train.tax_value)"
   ]
  },
  {
   "cell_type": "code",
   "execution_count": 32,
   "id": "b24790d7-750a-4f0f-a27d-ba1208902f28",
   "metadata": {},
   "outputs": [
    {
     "name": "stdout",
     "output_type": "stream",
     "text": [
      "RMSE for OLS using LinearRegression, power = 2 & alpha =0\n",
      "Train/In-Sample:  43883.96 \n",
      "Validate/Out-of-Sample:  43790.36\n"
     ]
    }
   ],
   "source": [
    "y_train['tv_pred_lm2'] = lm2.predict(X_train_d2)\n",
    "y_validate['tv_pred_lm2'] = lm2.predict(X_validate_d2)\n",
    "\n",
    "rmse_train = mean_squared_error(y_train.tax_value, y_train.tv_pred_lm2) ** .5\n",
    "rmse_validate = mean_squared_error(y_validate.tax_value, y_validate.tv_pred_lm2) ** .5\n",
    "\n",
    "print('RMSE for OLS using LinearRegression, power = 2 & alpha =0\\nTrain/In-Sample: ', round(rmse_train,2),\n",
    "      '\\nValidate/Out-of-Sample: ', round(rmse_validate, 2))"
   ]
  },
  {
   "cell_type": "code",
   "execution_count": 33,
   "id": "47191fe4-187b-4cb5-aa6a-10b16f7377c7",
   "metadata": {},
   "outputs": [],
   "source": [
    "metric_df = metric_df.append(\n",
    "{\n",
    "    'model': 'Quadratic Model',\n",
    "    'rmse_validate': rmse_validate, \n",
    "    'r^2_validate':explained_variance_score(y_validate.tax_value,\n",
    "                                           y_validate.tv_pred_lm2)\n",
    "}, ignore_index=True)"
   ]
  },
  {
   "cell_type": "code",
   "execution_count": 34,
   "id": "3a0b0eb8-22eb-49dc-b05b-b02c1fff6e45",
   "metadata": {},
   "outputs": [
    {
     "data": {
      "text/html": [
       "<div>\n",
       "<style scoped>\n",
       "    .dataframe tbody tr th:only-of-type {\n",
       "        vertical-align: middle;\n",
       "    }\n",
       "\n",
       "    .dataframe tbody tr th {\n",
       "        vertical-align: top;\n",
       "    }\n",
       "\n",
       "    .dataframe thead th {\n",
       "        text-align: right;\n",
       "    }\n",
       "</style>\n",
       "<table border=\"1\" class=\"dataframe\">\n",
       "  <thead>\n",
       "    <tr style=\"text-align: right;\">\n",
       "      <th></th>\n",
       "      <th>model</th>\n",
       "      <th>rmse_validate</th>\n",
       "      <th>r^2_validate</th>\n",
       "    </tr>\n",
       "  </thead>\n",
       "  <tbody>\n",
       "    <tr>\n",
       "      <th>0</th>\n",
       "      <td>mean_baseline</td>\n",
       "      <td>199306.978631</td>\n",
       "      <td>0.000000</td>\n",
       "    </tr>\n",
       "    <tr>\n",
       "      <th>1</th>\n",
       "      <td>OLS</td>\n",
       "      <td>46014.591430</td>\n",
       "      <td>0.946697</td>\n",
       "    </tr>\n",
       "    <tr>\n",
       "      <th>2</th>\n",
       "      <td>LassoLars alpha 1</td>\n",
       "      <td>46115.240776</td>\n",
       "      <td>0.946464</td>\n",
       "    </tr>\n",
       "    <tr>\n",
       "      <th>3</th>\n",
       "      <td>GLM power 2 &amp; alpha 0</td>\n",
       "      <td>199306.978631</td>\n",
       "      <td>0.000000</td>\n",
       "    </tr>\n",
       "    <tr>\n",
       "      <th>4</th>\n",
       "      <td>Quadratic Model</td>\n",
       "      <td>43790.363798</td>\n",
       "      <td>0.951726</td>\n",
       "    </tr>\n",
       "  </tbody>\n",
       "</table>\n",
       "</div>"
      ],
      "text/plain": [
       "                   model  rmse_validate  r^2_validate\n",
       "0          mean_baseline  199306.978631      0.000000\n",
       "1                    OLS   46014.591430      0.946697\n",
       "2      LassoLars alpha 1   46115.240776      0.946464\n",
       "3  GLM power 2 & alpha 0  199306.978631      0.000000\n",
       "4        Quadratic Model   43790.363798      0.951726"
      ]
     },
     "execution_count": 34,
     "metadata": {},
     "output_type": "execute_result"
    }
   ],
   "source": [
    "metric_df"
   ]
  },
  {
   "cell_type": "markdown",
   "id": "9faf04b9-f875-49c9-a9ea-c677e7a732c1",
   "metadata": {},
   "source": [
    "## Takeaways\n",
    "\n",
    "- The Quadratic model seems the best model for predicting home value with n=2 degrees\n",
    "- OLS and Lasso + Lars were also close but the Polynomial Regression beat them both out nonetheless\n",
    "- GLM ran on all distributions outside of normal were right in line with baseline so no improvement there"
   ]
  },
  {
   "cell_type": "code",
   "execution_count": null,
   "id": "0613f45b-3b87-47d9-b8f6-26cd7e8f2f7b",
   "metadata": {},
   "outputs": [],
   "source": []
  }
 ],
 "metadata": {
  "kernelspec": {
   "display_name": "Python 3 (ipykernel)",
   "language": "python",
   "name": "python3"
  },
  "language_info": {
   "codemirror_mode": {
    "name": "ipython",
    "version": 3
   },
   "file_extension": ".py",
   "mimetype": "text/x-python",
   "name": "python",
   "nbconvert_exporter": "python",
   "pygments_lexer": "ipython3",
   "version": "3.9.12"
  }
 },
 "nbformat": 4,
 "nbformat_minor": 5
}
