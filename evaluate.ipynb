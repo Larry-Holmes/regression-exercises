{
 "cells": [
  {
   "cell_type": "code",
   "execution_count": 2,
   "id": "643c9c19-ddda-4c66-8ccc-0515176cc867",
   "metadata": {},
   "outputs": [],
   "source": [
    "import pandas as pd\n",
    "import numpy as np\n",
    "from sklearn.linear_model import LinearRegression\n",
    "from sklearn.metrics import mean_squared_error\n",
    "from sklearn.metrics import r2_score\n",
    "from sklearn.preprocessing import MinMaxScaler, StandardScaler, RobustScaler\n",
    "\n",
    "import matplotlib.pyplot as plt\n",
    "\n",
    "import seaborn as sns\n",
    "import wrangle\n",
    "import env\n",
    "import evaluate"
   ]
  },
  {
   "cell_type": "code",
   "execution_count": 3,
   "id": "0a8c4567-6842-4faa-82a0-55a3a043b11b",
   "metadata": {},
   "outputs": [
    {
     "data": {
      "text/html": [
       "<div>\n",
       "<style scoped>\n",
       "    .dataframe tbody tr th:only-of-type {\n",
       "        vertical-align: middle;\n",
       "    }\n",
       "\n",
       "    .dataframe tbody tr th {\n",
       "        vertical-align: top;\n",
       "    }\n",
       "\n",
       "    .dataframe thead th {\n",
       "        text-align: right;\n",
       "    }\n",
       "</style>\n",
       "<table border=\"1\" class=\"dataframe\">\n",
       "  <thead>\n",
       "    <tr style=\"text-align: right;\">\n",
       "      <th></th>\n",
       "      <th>bedrooms</th>\n",
       "      <th>bathrooms</th>\n",
       "      <th>area</th>\n",
       "      <th>tax_value</th>\n",
       "      <th>yearbuilt</th>\n",
       "      <th>taxamount</th>\n",
       "      <th>fips</th>\n",
       "    </tr>\n",
       "  </thead>\n",
       "  <tbody>\n",
       "    <tr>\n",
       "      <th>6</th>\n",
       "      <td>3.0</td>\n",
       "      <td>4.0</td>\n",
       "      <td>1620.0</td>\n",
       "      <td>847770.0</td>\n",
       "      <td>2011.0</td>\n",
       "      <td>10244.94</td>\n",
       "      <td>6037.0</td>\n",
       "    </tr>\n",
       "    <tr>\n",
       "      <th>7</th>\n",
       "      <td>3.0</td>\n",
       "      <td>2.0</td>\n",
       "      <td>2077.0</td>\n",
       "      <td>646760.0</td>\n",
       "      <td>1926.0</td>\n",
       "      <td>7924.68</td>\n",
       "      <td>6037.0</td>\n",
       "    </tr>\n",
       "    <tr>\n",
       "      <th>18</th>\n",
       "      <td>3.0</td>\n",
       "      <td>1.0</td>\n",
       "      <td>1244.0</td>\n",
       "      <td>169471.0</td>\n",
       "      <td>1950.0</td>\n",
       "      <td>2532.88</td>\n",
       "      <td>6037.0</td>\n",
       "    </tr>\n",
       "    <tr>\n",
       "      <th>19</th>\n",
       "      <td>3.0</td>\n",
       "      <td>2.0</td>\n",
       "      <td>1300.0</td>\n",
       "      <td>233266.0</td>\n",
       "      <td>1950.0</td>\n",
       "      <td>3110.99</td>\n",
       "      <td>6037.0</td>\n",
       "    </tr>\n",
       "    <tr>\n",
       "      <th>20</th>\n",
       "      <td>3.0</td>\n",
       "      <td>2.0</td>\n",
       "      <td>1222.0</td>\n",
       "      <td>290492.0</td>\n",
       "      <td>1951.0</td>\n",
       "      <td>3870.25</td>\n",
       "      <td>6037.0</td>\n",
       "    </tr>\n",
       "  </tbody>\n",
       "</table>\n",
       "</div>"
      ],
      "text/plain": [
       "    bedrooms  bathrooms    area  tax_value  yearbuilt  taxamount    fips\n",
       "6        3.0        4.0  1620.0   847770.0     2011.0   10244.94  6037.0\n",
       "7        3.0        2.0  2077.0   646760.0     1926.0    7924.68  6037.0\n",
       "18       3.0        1.0  1244.0   169471.0     1950.0    2532.88  6037.0\n",
       "19       3.0        2.0  1300.0   233266.0     1950.0    3110.99  6037.0\n",
       "20       3.0        2.0  1222.0   290492.0     1951.0    3870.25  6037.0"
      ]
     },
     "execution_count": 3,
     "metadata": {},
     "output_type": "execute_result"
    }
   ],
   "source": [
    "df = wrangle.wrangle_zillow()\n",
    "df.head()"
   ]
  },
  {
   "cell_type": "code",
   "execution_count": 4,
   "id": "91f30f8f-0d09-4854-8fa1-0913cc2b2bf6",
   "metadata": {},
   "outputs": [
    {
     "data": {
      "text/plain": [
       "((1038469, 7), (445059, 7), (370883, 7))"
      ]
     },
     "execution_count": 4,
     "metadata": {},
     "output_type": "execute_result"
    }
   ],
   "source": [
    "train, validate, test = wrangle.my_train_test_split(df)\n",
    "train.shape, validate.shape, test.shape"
   ]
  },
  {
   "cell_type": "code",
   "execution_count": 5,
   "id": "6e245f64-e35f-4395-b731-6758b4935bbc",
   "metadata": {},
   "outputs": [
    {
     "data": {
      "text/html": [
       "<div>\n",
       "<style scoped>\n",
       "    .dataframe tbody tr th:only-of-type {\n",
       "        vertical-align: middle;\n",
       "    }\n",
       "\n",
       "    .dataframe tbody tr th {\n",
       "        vertical-align: top;\n",
       "    }\n",
       "\n",
       "    .dataframe thead th {\n",
       "        text-align: right;\n",
       "    }\n",
       "</style>\n",
       "<table border=\"1\" class=\"dataframe\">\n",
       "  <thead>\n",
       "    <tr style=\"text-align: right;\">\n",
       "      <th></th>\n",
       "      <th>bedrooms</th>\n",
       "      <th>bathrooms</th>\n",
       "      <th>area</th>\n",
       "      <th>tax_value</th>\n",
       "      <th>yearbuilt</th>\n",
       "      <th>taxamount</th>\n",
       "      <th>fips</th>\n",
       "    </tr>\n",
       "  </thead>\n",
       "  <tbody>\n",
       "    <tr>\n",
       "      <th>894604</th>\n",
       "      <td>4.0</td>\n",
       "      <td>2.0</td>\n",
       "      <td>1694.0</td>\n",
       "      <td>393986.0</td>\n",
       "      <td>1972.0</td>\n",
       "      <td>5289.08</td>\n",
       "      <td>6111.0</td>\n",
       "    </tr>\n",
       "    <tr>\n",
       "      <th>221576</th>\n",
       "      <td>3.0</td>\n",
       "      <td>3.0</td>\n",
       "      <td>2284.0</td>\n",
       "      <td>411257.0</td>\n",
       "      <td>1990.0</td>\n",
       "      <td>5242.36</td>\n",
       "      <td>6037.0</td>\n",
       "    </tr>\n",
       "    <tr>\n",
       "      <th>2076710</th>\n",
       "      <td>3.0</td>\n",
       "      <td>2.5</td>\n",
       "      <td>1799.0</td>\n",
       "      <td>79563.0</td>\n",
       "      <td>1968.0</td>\n",
       "      <td>766.38</td>\n",
       "      <td>6059.0</td>\n",
       "    </tr>\n",
       "    <tr>\n",
       "      <th>1051549</th>\n",
       "      <td>3.0</td>\n",
       "      <td>1.0</td>\n",
       "      <td>1024.0</td>\n",
       "      <td>50267.0</td>\n",
       "      <td>1949.0</td>\n",
       "      <td>899.90</td>\n",
       "      <td>6037.0</td>\n",
       "    </tr>\n",
       "    <tr>\n",
       "      <th>1575944</th>\n",
       "      <td>2.0</td>\n",
       "      <td>1.0</td>\n",
       "      <td>660.0</td>\n",
       "      <td>120734.0</td>\n",
       "      <td>1924.0</td>\n",
       "      <td>1533.73</td>\n",
       "      <td>6037.0</td>\n",
       "    </tr>\n",
       "  </tbody>\n",
       "</table>\n",
       "</div>"
      ],
      "text/plain": [
       "         bedrooms  bathrooms    area  tax_value  yearbuilt  taxamount    fips\n",
       "894604        4.0        2.0  1694.0   393986.0     1972.0    5289.08  6111.0\n",
       "221576        3.0        3.0  2284.0   411257.0     1990.0    5242.36  6037.0\n",
       "2076710       3.0        2.5  1799.0    79563.0     1968.0     766.38  6059.0\n",
       "1051549       3.0        1.0  1024.0    50267.0     1949.0     899.90  6037.0\n",
       "1575944       2.0        1.0   660.0   120734.0     1924.0    1533.73  6037.0"
      ]
     },
     "execution_count": 5,
     "metadata": {},
     "output_type": "execute_result"
    }
   ],
   "source": [
    "train.head()"
   ]
  },
  {
   "cell_type": "code",
   "execution_count": 6,
   "id": "890afb86-d59a-47a9-95fd-4f271d9f3d12",
   "metadata": {},
   "outputs": [],
   "source": [
    "X_train, X_validate = train[['area']], validate[['area']]\n",
    "y_train, y_validate = train.tax_value, validate.tax_value"
   ]
  },
  {
   "cell_type": "code",
   "execution_count": 8,
   "id": "4058da9f-9f0f-4f70-a1b9-9ad43272dfa2",
   "metadata": {},
   "outputs": [],
   "source": [
    "train = train.drop(columns=['bedrooms','bathrooms', 'yearbuilt','taxamount', 'fips'])"
   ]
  },
  {
   "cell_type": "code",
   "execution_count": 9,
   "id": "980e5f62-b704-44f1-a520-5041e0c4f609",
   "metadata": {},
   "outputs": [
    {
     "data": {
      "text/html": [
       "<div>\n",
       "<style scoped>\n",
       "    .dataframe tbody tr th:only-of-type {\n",
       "        vertical-align: middle;\n",
       "    }\n",
       "\n",
       "    .dataframe tbody tr th {\n",
       "        vertical-align: top;\n",
       "    }\n",
       "\n",
       "    .dataframe thead th {\n",
       "        text-align: right;\n",
       "    }\n",
       "</style>\n",
       "<table border=\"1\" class=\"dataframe\">\n",
       "  <thead>\n",
       "    <tr style=\"text-align: right;\">\n",
       "      <th></th>\n",
       "      <th>area</th>\n",
       "      <th>tax_value</th>\n",
       "    </tr>\n",
       "  </thead>\n",
       "  <tbody>\n",
       "    <tr>\n",
       "      <th>894604</th>\n",
       "      <td>1694.0</td>\n",
       "      <td>393986.0</td>\n",
       "    </tr>\n",
       "    <tr>\n",
       "      <th>221576</th>\n",
       "      <td>2284.0</td>\n",
       "      <td>411257.0</td>\n",
       "    </tr>\n",
       "    <tr>\n",
       "      <th>2076710</th>\n",
       "      <td>1799.0</td>\n",
       "      <td>79563.0</td>\n",
       "    </tr>\n",
       "    <tr>\n",
       "      <th>1051549</th>\n",
       "      <td>1024.0</td>\n",
       "      <td>50267.0</td>\n",
       "    </tr>\n",
       "    <tr>\n",
       "      <th>1575944</th>\n",
       "      <td>660.0</td>\n",
       "      <td>120734.0</td>\n",
       "    </tr>\n",
       "  </tbody>\n",
       "</table>\n",
       "</div>"
      ],
      "text/plain": [
       "           area  tax_value\n",
       "894604   1694.0   393986.0\n",
       "221576   2284.0   411257.0\n",
       "2076710  1799.0    79563.0\n",
       "1051549  1024.0    50267.0\n",
       "1575944   660.0   120734.0"
      ]
     },
     "execution_count": 9,
     "metadata": {},
     "output_type": "execute_result"
    }
   ],
   "source": [
    "train.head()"
   ]
  },
  {
   "cell_type": "code",
   "execution_count": 10,
   "id": "dded3608-f430-447f-aa86-e25d64a561c2",
   "metadata": {},
   "outputs": [],
   "source": [
    "baseline = y_train.mean()"
   ]
  },
  {
   "cell_type": "code",
   "execution_count": 11,
   "id": "66c2a928-3678-446c-b08c-b6fea6cadc33",
   "metadata": {},
   "outputs": [],
   "source": [
    "train['baseline'] = baseline"
   ]
  },
  {
   "cell_type": "code",
   "execution_count": 12,
   "id": "eabb918f-e916-412d-9d12-25bcf330034c",
   "metadata": {},
   "outputs": [
    {
     "data": {
      "text/html": [
       "<div>\n",
       "<style scoped>\n",
       "    .dataframe tbody tr th:only-of-type {\n",
       "        vertical-align: middle;\n",
       "    }\n",
       "\n",
       "    .dataframe tbody tr th {\n",
       "        vertical-align: top;\n",
       "    }\n",
       "\n",
       "    .dataframe thead th {\n",
       "        text-align: right;\n",
       "    }\n",
       "</style>\n",
       "<table border=\"1\" class=\"dataframe\">\n",
       "  <thead>\n",
       "    <tr style=\"text-align: right;\">\n",
       "      <th></th>\n",
       "      <th>area</th>\n",
       "      <th>tax_value</th>\n",
       "      <th>baseline</th>\n",
       "    </tr>\n",
       "  </thead>\n",
       "  <tbody>\n",
       "    <tr>\n",
       "      <th>894604</th>\n",
       "      <td>1694.0</td>\n",
       "      <td>393986.0</td>\n",
       "      <td>327853.46165</td>\n",
       "    </tr>\n",
       "    <tr>\n",
       "      <th>221576</th>\n",
       "      <td>2284.0</td>\n",
       "      <td>411257.0</td>\n",
       "      <td>327853.46165</td>\n",
       "    </tr>\n",
       "    <tr>\n",
       "      <th>2076710</th>\n",
       "      <td>1799.0</td>\n",
       "      <td>79563.0</td>\n",
       "      <td>327853.46165</td>\n",
       "    </tr>\n",
       "    <tr>\n",
       "      <th>1051549</th>\n",
       "      <td>1024.0</td>\n",
       "      <td>50267.0</td>\n",
       "      <td>327853.46165</td>\n",
       "    </tr>\n",
       "    <tr>\n",
       "      <th>1575944</th>\n",
       "      <td>660.0</td>\n",
       "      <td>120734.0</td>\n",
       "      <td>327853.46165</td>\n",
       "    </tr>\n",
       "  </tbody>\n",
       "</table>\n",
       "</div>"
      ],
      "text/plain": [
       "           area  tax_value      baseline\n",
       "894604   1694.0   393986.0  327853.46165\n",
       "221576   2284.0   411257.0  327853.46165\n",
       "2076710  1799.0    79563.0  327853.46165\n",
       "1051549  1024.0    50267.0  327853.46165\n",
       "1575944   660.0   120734.0  327853.46165"
      ]
     },
     "execution_count": 12,
     "metadata": {},
     "output_type": "execute_result"
    }
   ],
   "source": [
    "train.head()"
   ]
  },
  {
   "cell_type": "code",
   "execution_count": 13,
   "id": "151c53df-ae05-449b-aef8-e50586e3ff48",
   "metadata": {},
   "outputs": [],
   "source": [
    "lm = LinearRegression()"
   ]
  },
  {
   "cell_type": "code",
   "execution_count": 14,
   "id": "7fa8d386-29b7-46be-b49c-b5d9b23a1a92",
   "metadata": {},
   "outputs": [
    {
     "data": {
      "text/plain": [
       "LinearRegression()"
      ]
     },
     "execution_count": 14,
     "metadata": {},
     "output_type": "execute_result"
    }
   ],
   "source": [
    "lm.fit(X_train, y_train)"
   ]
  },
  {
   "cell_type": "code",
   "execution_count": 15,
   "id": "485e31c9-9e14-49f7-b91b-6fe914cc534f",
   "metadata": {},
   "outputs": [
    {
     "data": {
      "text/html": [
       "<div>\n",
       "<style scoped>\n",
       "    .dataframe tbody tr th:only-of-type {\n",
       "        vertical-align: middle;\n",
       "    }\n",
       "\n",
       "    .dataframe tbody tr th {\n",
       "        vertical-align: top;\n",
       "    }\n",
       "\n",
       "    .dataframe thead th {\n",
       "        text-align: right;\n",
       "    }\n",
       "</style>\n",
       "<table border=\"1\" class=\"dataframe\">\n",
       "  <thead>\n",
       "    <tr style=\"text-align: right;\">\n",
       "      <th></th>\n",
       "      <th>area</th>\n",
       "      <th>tax_value</th>\n",
       "      <th>baseline</th>\n",
       "      <th>yhat</th>\n",
       "    </tr>\n",
       "  </thead>\n",
       "  <tbody>\n",
       "    <tr>\n",
       "      <th>894604</th>\n",
       "      <td>1694.0</td>\n",
       "      <td>393986.0</td>\n",
       "      <td>327853.46165</td>\n",
       "      <td>333849.620701</td>\n",
       "    </tr>\n",
       "    <tr>\n",
       "      <th>221576</th>\n",
       "      <td>2284.0</td>\n",
       "      <td>411257.0</td>\n",
       "      <td>327853.46165</td>\n",
       "      <td>421884.642833</td>\n",
       "    </tr>\n",
       "    <tr>\n",
       "      <th>2076710</th>\n",
       "      <td>1799.0</td>\n",
       "      <td>79563.0</td>\n",
       "      <td>327853.46165</td>\n",
       "      <td>349516.870403</td>\n",
       "    </tr>\n",
       "    <tr>\n",
       "      <th>1051549</th>\n",
       "      <td>1024.0</td>\n",
       "      <td>50267.0</td>\n",
       "      <td>327853.46165</td>\n",
       "      <td>233877.646416</td>\n",
       "    </tr>\n",
       "    <tr>\n",
       "      <th>1575944</th>\n",
       "      <td>660.0</td>\n",
       "      <td>120734.0</td>\n",
       "      <td>327853.46165</td>\n",
       "      <td>179564.514117</td>\n",
       "    </tr>\n",
       "  </tbody>\n",
       "</table>\n",
       "</div>"
      ],
      "text/plain": [
       "           area  tax_value      baseline           yhat\n",
       "894604   1694.0   393986.0  327853.46165  333849.620701\n",
       "221576   2284.0   411257.0  327853.46165  421884.642833\n",
       "2076710  1799.0    79563.0  327853.46165  349516.870403\n",
       "1051549  1024.0    50267.0  327853.46165  233877.646416\n",
       "1575944   660.0   120734.0  327853.46165  179564.514117"
      ]
     },
     "execution_count": 15,
     "metadata": {},
     "output_type": "execute_result"
    }
   ],
   "source": [
    "train['yhat'] = lm.predict(X_train)\n",
    "train.head()"
   ]
  },
  {
   "cell_type": "code",
   "execution_count": 16,
   "id": "90b95d05-ddb6-4bac-a4a5-10339b1d6083",
   "metadata": {},
   "outputs": [
    {
     "data": {
      "text/html": [
       "<div>\n",
       "<style scoped>\n",
       "    .dataframe tbody tr th:only-of-type {\n",
       "        vertical-align: middle;\n",
       "    }\n",
       "\n",
       "    .dataframe tbody tr th {\n",
       "        vertical-align: top;\n",
       "    }\n",
       "\n",
       "    .dataframe thead th {\n",
       "        text-align: right;\n",
       "    }\n",
       "</style>\n",
       "<table border=\"1\" class=\"dataframe\">\n",
       "  <thead>\n",
       "    <tr style=\"text-align: right;\">\n",
       "      <th></th>\n",
       "      <th>area</th>\n",
       "      <th>tax_value</th>\n",
       "      <th>baseline</th>\n",
       "      <th>yhat</th>\n",
       "      <th>baseline_residual</th>\n",
       "      <th>residual</th>\n",
       "    </tr>\n",
       "  </thead>\n",
       "  <tbody>\n",
       "    <tr>\n",
       "      <th>894604</th>\n",
       "      <td>1694.0</td>\n",
       "      <td>393986.0</td>\n",
       "      <td>327853.46165</td>\n",
       "      <td>333849.620701</td>\n",
       "      <td>66132.53835</td>\n",
       "      <td>60136.379299</td>\n",
       "    </tr>\n",
       "    <tr>\n",
       "      <th>221576</th>\n",
       "      <td>2284.0</td>\n",
       "      <td>411257.0</td>\n",
       "      <td>327853.46165</td>\n",
       "      <td>421884.642833</td>\n",
       "      <td>83403.53835</td>\n",
       "      <td>-10627.642833</td>\n",
       "    </tr>\n",
       "    <tr>\n",
       "      <th>2076710</th>\n",
       "      <td>1799.0</td>\n",
       "      <td>79563.0</td>\n",
       "      <td>327853.46165</td>\n",
       "      <td>349516.870403</td>\n",
       "      <td>-248290.46165</td>\n",
       "      <td>-269953.870403</td>\n",
       "    </tr>\n",
       "    <tr>\n",
       "      <th>1051549</th>\n",
       "      <td>1024.0</td>\n",
       "      <td>50267.0</td>\n",
       "      <td>327853.46165</td>\n",
       "      <td>233877.646416</td>\n",
       "      <td>-277586.46165</td>\n",
       "      <td>-183610.646416</td>\n",
       "    </tr>\n",
       "    <tr>\n",
       "      <th>1575944</th>\n",
       "      <td>660.0</td>\n",
       "      <td>120734.0</td>\n",
       "      <td>327853.46165</td>\n",
       "      <td>179564.514117</td>\n",
       "      <td>-207119.46165</td>\n",
       "      <td>-58830.514117</td>\n",
       "    </tr>\n",
       "  </tbody>\n",
       "</table>\n",
       "</div>"
      ],
      "text/plain": [
       "           area  tax_value      baseline           yhat  baseline_residual  \\\n",
       "894604   1694.0   393986.0  327853.46165  333849.620701        66132.53835   \n",
       "221576   2284.0   411257.0  327853.46165  421884.642833        83403.53835   \n",
       "2076710  1799.0    79563.0  327853.46165  349516.870403      -248290.46165   \n",
       "1051549  1024.0    50267.0  327853.46165  233877.646416      -277586.46165   \n",
       "1575944   660.0   120734.0  327853.46165  179564.514117      -207119.46165   \n",
       "\n",
       "              residual  \n",
       "894604    60136.379299  \n",
       "221576   -10627.642833  \n",
       "2076710 -269953.870403  \n",
       "1051549 -183610.646416  \n",
       "1575944  -58830.514117  "
      ]
     },
     "execution_count": 16,
     "metadata": {},
     "output_type": "execute_result"
    }
   ],
   "source": [
    "train['baseline_residual'] = y_train - train.baseline\n",
    "train['residual'] = y_train - train.yhat\n",
    "train.head()"
   ]
  },
  {
   "cell_type": "code",
   "execution_count": 17,
   "id": "e79f8665-fb85-4ecd-9c6f-9f800a6cc840",
   "metadata": {},
   "outputs": [
    {
     "data": {
      "image/png": "[encoded data removed]",
      "text/plain": [
       "<Figure size 432x288 with 1 Axes>"
      ]
     },
     "metadata": {
      "needs_background": "light"
     },
     "output_type": "display_data"
    }
   ],
   "source": [
    "evaluate.plot_residuals(y_train, train.yhat)"
   ]
  },
  {
   "cell_type": "code",
   "execution_count": 18,
   "id": "b6506d83-1feb-44b6-9499-23d690da2c89",
   "metadata": {},
   "outputs": [],
   "source": [
    "SSE, ESS, TSS, MSE, RMSE = evaluate.regression_errors(y_train, train.yhat)"
   ]
  },
  {
   "cell_type": "code",
   "execution_count": 19,
   "id": "e0db5584-9919-48c0-bf20-4998473234fc",
   "metadata": {},
   "outputs": [
    {
     "name": "stdout",
     "output_type": "stream",
     "text": [
      "SSE = 3.3725163602397584e+16\n",
      "ESS = 7367159462754288.0\n",
      "TSS = 4.109232306515187e+16\n",
      "MSE = 32475850123.978264\n",
      "RMSE = 180210.57162102967\n"
     ]
    }
   ],
   "source": [
    "print(f'SSE = {SSE}')\n",
    "print(f'ESS = {ESS}')\n",
    "print(f'TSS = {TSS}')\n",
    "print(f'MSE = {MSE}')\n",
    "print(f'RMSE = {RMSE}')\n"
   ]
  },
  {
   "cell_type": "code",
   "execution_count": 20,
   "id": "e2b0705c-cfdd-422c-b7e7-30c7971f28d8",
   "metadata": {},
   "outputs": [],
   "source": [
    "SSE_baseline, MSE_baseline, RMSE_baseline = evaluate.baseline_mean_errors(y_train)"
   ]
  },
  {
   "cell_type": "code",
   "execution_count": 21,
   "id": "0c82ba9d-67a7-4fd1-bcfe-33023a5cf5fc",
   "metadata": {},
   "outputs": [
    {
     "name": "stdout",
     "output_type": "stream",
     "text": [
      "SSE_basline = 4.109232306515187e+16\n",
      "MSE_baseline = 39570100855.34751\n",
      "RMSE_baseline = 198922.3488081405\n"
     ]
    }
   ],
   "source": [
    "print(f'SSE_basline = {SSE_baseline}')\n",
    "print(f'MSE_baseline = {MSE_baseline}')\n",
    "print(f'RMSE_baseline = {RMSE_baseline}')"
   ]
  },
  {
   "cell_type": "code",
   "execution_count": 22,
   "id": "6074e3d0-c53d-4ce4-ab0e-3477b4c04f5c",
   "metadata": {},
   "outputs": [
    {
     "name": "stdout",
     "output_type": "stream",
     "text": [
      "My OSL model better than baseline!\n"
     ]
    }
   ],
   "source": [
    "if SSE < SSE_baseline:\n",
    "    print('My OSL model better than baseline!')\n",
    "else:\n",
    "    print('My OSL model is not better than baseline!')"
   ]
  },
  {
   "cell_type": "code",
   "execution_count": 23,
   "id": "128a2496-69d0-42cd-a0c5-1be6f8172ccd",
   "metadata": {},
   "outputs": [
    {
     "data": {
      "text/plain": [
       "True"
      ]
     },
     "execution_count": 23,
     "metadata": {},
     "output_type": "execute_result"
    }
   ],
   "source": [
    "evaluate.better_than_baseline(y_train, train.yhat)"
   ]
  },
  {
   "cell_type": "code",
   "execution_count": 27,
   "id": "e1299724-4c95-4408-a37c-81d473e25a83",
   "metadata": {},
   "outputs": [],
   "source": [
    "X_train, model = evaluate.x_train_feats(train, y_train)"
   ]
  },
  {
   "cell_type": "code",
   "execution_count": 28,
   "id": "e4f5a12a-7cf4-47e2-a8ac-e5ee77c90b85",
   "metadata": {},
   "outputs": [
    {
     "data": {
      "text/html": [
       "<div>\n",
       "<style scoped>\n",
       "    .dataframe tbody tr th:only-of-type {\n",
       "        vertical-align: middle;\n",
       "    }\n",
       "\n",
       "    .dataframe tbody tr th {\n",
       "        vertical-align: top;\n",
       "    }\n",
       "\n",
       "    .dataframe thead th {\n",
       "        text-align: right;\n",
       "    }\n",
       "</style>\n",
       "<table border=\"1\" class=\"dataframe\">\n",
       "  <thead>\n",
       "    <tr style=\"text-align: right;\">\n",
       "      <th></th>\n",
       "      <th>area</th>\n",
       "      <th>tax_value</th>\n",
       "      <th>baseline</th>\n",
       "      <th>yhat</th>\n",
       "      <th>baseline_residual</th>\n",
       "      <th>residual</th>\n",
       "    </tr>\n",
       "  </thead>\n",
       "  <tbody>\n",
       "    <tr>\n",
       "      <th>894604</th>\n",
       "      <td>1694.0</td>\n",
       "      <td>393986.0</td>\n",
       "      <td>327853.46165</td>\n",
       "      <td>333849.620701</td>\n",
       "      <td>66132.53835</td>\n",
       "      <td>60136.379299</td>\n",
       "    </tr>\n",
       "    <tr>\n",
       "      <th>221576</th>\n",
       "      <td>2284.0</td>\n",
       "      <td>411257.0</td>\n",
       "      <td>327853.46165</td>\n",
       "      <td>421884.642833</td>\n",
       "      <td>83403.53835</td>\n",
       "      <td>-10627.642833</td>\n",
       "    </tr>\n",
       "    <tr>\n",
       "      <th>2076710</th>\n",
       "      <td>1799.0</td>\n",
       "      <td>79563.0</td>\n",
       "      <td>327853.46165</td>\n",
       "      <td>349516.870403</td>\n",
       "      <td>-248290.46165</td>\n",
       "      <td>-269953.870403</td>\n",
       "    </tr>\n",
       "    <tr>\n",
       "      <th>1051549</th>\n",
       "      <td>1024.0</td>\n",
       "      <td>50267.0</td>\n",
       "      <td>327853.46165</td>\n",
       "      <td>233877.646416</td>\n",
       "      <td>-277586.46165</td>\n",
       "      <td>-183610.646416</td>\n",
       "    </tr>\n",
       "    <tr>\n",
       "      <th>1575944</th>\n",
       "      <td>660.0</td>\n",
       "      <td>120734.0</td>\n",
       "      <td>327853.46165</td>\n",
       "      <td>179564.514117</td>\n",
       "      <td>-207119.46165</td>\n",
       "      <td>-58830.514117</td>\n",
       "    </tr>\n",
       "    <tr>\n",
       "      <th>...</th>\n",
       "      <td>...</td>\n",
       "      <td>...</td>\n",
       "      <td>...</td>\n",
       "      <td>...</td>\n",
       "      <td>...</td>\n",
       "      <td>...</td>\n",
       "    </tr>\n",
       "    <tr>\n",
       "      <th>51283</th>\n",
       "      <td>2565.0</td>\n",
       "      <td>700000.0</td>\n",
       "      <td>327853.46165</td>\n",
       "      <td>463813.187273</td>\n",
       "      <td>372146.53835</td>\n",
       "      <td>236186.812727</td>\n",
       "    </tr>\n",
       "    <tr>\n",
       "      <th>979022</th>\n",
       "      <td>1812.0</td>\n",
       "      <td>71447.0</td>\n",
       "      <td>327853.46165</td>\n",
       "      <td>351456.625128</td>\n",
       "      <td>-256406.46165</td>\n",
       "      <td>-280009.625128</td>\n",
       "    </tr>\n",
       "    <tr>\n",
       "      <th>1102170</th>\n",
       "      <td>2684.0</td>\n",
       "      <td>300298.0</td>\n",
       "      <td>327853.46165</td>\n",
       "      <td>481569.403601</td>\n",
       "      <td>-27555.46165</td>\n",
       "      <td>-181271.403601</td>\n",
       "    </tr>\n",
       "    <tr>\n",
       "      <th>1089315</th>\n",
       "      <td>1347.0</td>\n",
       "      <td>426200.0</td>\n",
       "      <td>327853.46165</td>\n",
       "      <td>282073.090735</td>\n",
       "      <td>98346.53835</td>\n",
       "      <td>144126.909265</td>\n",
       "    </tr>\n",
       "    <tr>\n",
       "      <th>244127</th>\n",
       "      <td>1184.0</td>\n",
       "      <td>158430.0</td>\n",
       "      <td>327853.46165</td>\n",
       "      <td>257751.550723</td>\n",
       "      <td>-169423.46165</td>\n",
       "      <td>-99321.550723</td>\n",
       "    </tr>\n",
       "  </tbody>\n",
       "</table>\n",
       "<p>1038469 rows × 6 columns</p>\n",
       "</div>"
      ],
      "text/plain": [
       "           area  tax_value      baseline           yhat  baseline_residual  \\\n",
       "894604   1694.0   393986.0  327853.46165  333849.620701        66132.53835   \n",
       "221576   2284.0   411257.0  327853.46165  421884.642833        83403.53835   \n",
       "2076710  1799.0    79563.0  327853.46165  349516.870403      -248290.46165   \n",
       "1051549  1024.0    50267.0  327853.46165  233877.646416      -277586.46165   \n",
       "1575944   660.0   120734.0  327853.46165  179564.514117      -207119.46165   \n",
       "...         ...        ...           ...            ...                ...   \n",
       "51283    2565.0   700000.0  327853.46165  463813.187273       372146.53835   \n",
       "979022   1812.0    71447.0  327853.46165  351456.625128      -256406.46165   \n",
       "1102170  2684.0   300298.0  327853.46165  481569.403601       -27555.46165   \n",
       "1089315  1347.0   426200.0  327853.46165  282073.090735        98346.53835   \n",
       "244127   1184.0   158430.0  327853.46165  257751.550723      -169423.46165   \n",
       "\n",
       "              residual  \n",
       "894604    60136.379299  \n",
       "221576   -10627.642833  \n",
       "2076710 -269953.870403  \n",
       "1051549 -183610.646416  \n",
       "1575944  -58830.514117  \n",
       "...                ...  \n",
       "51283    236186.812727  \n",
       "979022  -280009.625128  \n",
       "1102170 -181271.403601  \n",
       "1089315  144126.909265  \n",
       "244127   -99321.550723  \n",
       "\n",
       "[1038469 rows x 6 columns]"
      ]
     },
     "execution_count": 28,
     "metadata": {},
     "output_type": "execute_result"
    }
   ],
   "source": [
    "X_train"
   ]
  },
  {
   "cell_type": "code",
   "execution_count": 44,
   "id": "8488be2d-f5bf-488a-9375-16057c24c555",
   "metadata": {},
   "outputs": [
    {
     "data": {
      "text/html": [
       "<div>\n",
       "<style scoped>\n",
       "    .dataframe tbody tr th:only-of-type {\n",
       "        vertical-align: middle;\n",
       "    }\n",
       "\n",
       "    .dataframe tbody tr th {\n",
       "        vertical-align: top;\n",
       "    }\n",
       "\n",
       "    .dataframe thead th {\n",
       "        text-align: right;\n",
       "    }\n",
       "</style>\n",
       "<table border=\"1\" class=\"dataframe\">\n",
       "  <thead>\n",
       "    <tr style=\"text-align: right;\">\n",
       "      <th></th>\n",
       "      <th>bedrooms</th>\n",
       "      <th>bathrooms</th>\n",
       "      <th>area</th>\n",
       "      <th>tax_value</th>\n",
       "      <th>yearbuilt</th>\n",
       "      <th>taxamount</th>\n",
       "      <th>fips</th>\n",
       "    </tr>\n",
       "  </thead>\n",
       "  <tbody>\n",
       "    <tr>\n",
       "      <th>6</th>\n",
       "      <td>3.0</td>\n",
       "      <td>4.0</td>\n",
       "      <td>1620.0</td>\n",
       "      <td>847770.0</td>\n",
       "      <td>2011.0</td>\n",
       "      <td>10244.94</td>\n",
       "      <td>6037.0</td>\n",
       "    </tr>\n",
       "    <tr>\n",
       "      <th>7</th>\n",
       "      <td>3.0</td>\n",
       "      <td>2.0</td>\n",
       "      <td>2077.0</td>\n",
       "      <td>646760.0</td>\n",
       "      <td>1926.0</td>\n",
       "      <td>7924.68</td>\n",
       "      <td>6037.0</td>\n",
       "    </tr>\n",
       "    <tr>\n",
       "      <th>18</th>\n",
       "      <td>3.0</td>\n",
       "      <td>1.0</td>\n",
       "      <td>1244.0</td>\n",
       "      <td>169471.0</td>\n",
       "      <td>1950.0</td>\n",
       "      <td>2532.88</td>\n",
       "      <td>6037.0</td>\n",
       "    </tr>\n",
       "    <tr>\n",
       "      <th>19</th>\n",
       "      <td>3.0</td>\n",
       "      <td>2.0</td>\n",
       "      <td>1300.0</td>\n",
       "      <td>233266.0</td>\n",
       "      <td>1950.0</td>\n",
       "      <td>3110.99</td>\n",
       "      <td>6037.0</td>\n",
       "    </tr>\n",
       "    <tr>\n",
       "      <th>20</th>\n",
       "      <td>3.0</td>\n",
       "      <td>2.0</td>\n",
       "      <td>1222.0</td>\n",
       "      <td>290492.0</td>\n",
       "      <td>1951.0</td>\n",
       "      <td>3870.25</td>\n",
       "      <td>6037.0</td>\n",
       "    </tr>\n",
       "  </tbody>\n",
       "</table>\n",
       "</div>"
      ],
      "text/plain": [
       "    bedrooms  bathrooms    area  tax_value  yearbuilt  taxamount    fips\n",
       "6        3.0        4.0  1620.0   847770.0     2011.0   10244.94  6037.0\n",
       "7        3.0        2.0  2077.0   646760.0     1926.0    7924.68  6037.0\n",
       "18       3.0        1.0  1244.0   169471.0     1950.0    2532.88  6037.0\n",
       "19       3.0        2.0  1300.0   233266.0     1950.0    3110.99  6037.0\n",
       "20       3.0        2.0  1222.0   290492.0     1951.0    3870.25  6037.0"
      ]
     },
     "execution_count": 44,
     "metadata": {},
     "output_type": "execute_result"
    }
   ],
   "source": [
    "df = wrangle.wrangle_zillow()\n",
    "df.head()"
   ]
  },
  {
   "cell_type": "code",
   "execution_count": 45,
   "id": "0bbfc51d-b24f-4965-80a7-37cbc170d844",
   "metadata": {},
   "outputs": [
    {
     "data": {
      "text/plain": [
       "((1038469, 7), (445059, 7), (370883, 7))"
      ]
     },
     "execution_count": 45,
     "metadata": {},
     "output_type": "execute_result"
    }
   ],
   "source": [
    "train, validate, test = wrangle.my_train_test_split(df)\n",
    "train.shape, validate.shape, test.shape"
   ]
  },
  {
   "cell_type": "code",
   "execution_count": 46,
   "id": "4189aa52-58a3-4757-84a5-15581b23715a",
   "metadata": {},
   "outputs": [],
   "source": [
    "train['baseline'] = baseline"
   ]
  },
  {
   "cell_type": "code",
   "execution_count": 47,
   "id": "e02a4592-352c-483e-ac72-78f2fb198f38",
   "metadata": {},
   "outputs": [
    {
     "data": {
      "text/html": [
       "<div>\n",
       "<style scoped>\n",
       "    .dataframe tbody tr th:only-of-type {\n",
       "        vertical-align: middle;\n",
       "    }\n",
       "\n",
       "    .dataframe tbody tr th {\n",
       "        vertical-align: top;\n",
       "    }\n",
       "\n",
       "    .dataframe thead th {\n",
       "        text-align: right;\n",
       "    }\n",
       "</style>\n",
       "<table border=\"1\" class=\"dataframe\">\n",
       "  <thead>\n",
       "    <tr style=\"text-align: right;\">\n",
       "      <th></th>\n",
       "      <th>bedrooms</th>\n",
       "      <th>bathrooms</th>\n",
       "      <th>area</th>\n",
       "      <th>tax_value</th>\n",
       "      <th>yearbuilt</th>\n",
       "      <th>taxamount</th>\n",
       "      <th>fips</th>\n",
       "      <th>baseline</th>\n",
       "    </tr>\n",
       "  </thead>\n",
       "  <tbody>\n",
       "    <tr>\n",
       "      <th>894604</th>\n",
       "      <td>4.0</td>\n",
       "      <td>2.0</td>\n",
       "      <td>1694.0</td>\n",
       "      <td>393986.0</td>\n",
       "      <td>1972.0</td>\n",
       "      <td>5289.08</td>\n",
       "      <td>6111.0</td>\n",
       "      <td>327853.46165</td>\n",
       "    </tr>\n",
       "    <tr>\n",
       "      <th>221576</th>\n",
       "      <td>3.0</td>\n",
       "      <td>3.0</td>\n",
       "      <td>2284.0</td>\n",
       "      <td>411257.0</td>\n",
       "      <td>1990.0</td>\n",
       "      <td>5242.36</td>\n",
       "      <td>6037.0</td>\n",
       "      <td>327853.46165</td>\n",
       "    </tr>\n",
       "    <tr>\n",
       "      <th>2076710</th>\n",
       "      <td>3.0</td>\n",
       "      <td>2.5</td>\n",
       "      <td>1799.0</td>\n",
       "      <td>79563.0</td>\n",
       "      <td>1968.0</td>\n",
       "      <td>766.38</td>\n",
       "      <td>6059.0</td>\n",
       "      <td>327853.46165</td>\n",
       "    </tr>\n",
       "    <tr>\n",
       "      <th>1051549</th>\n",
       "      <td>3.0</td>\n",
       "      <td>1.0</td>\n",
       "      <td>1024.0</td>\n",
       "      <td>50267.0</td>\n",
       "      <td>1949.0</td>\n",
       "      <td>899.90</td>\n",
       "      <td>6037.0</td>\n",
       "      <td>327853.46165</td>\n",
       "    </tr>\n",
       "    <tr>\n",
       "      <th>1575944</th>\n",
       "      <td>2.0</td>\n",
       "      <td>1.0</td>\n",
       "      <td>660.0</td>\n",
       "      <td>120734.0</td>\n",
       "      <td>1924.0</td>\n",
       "      <td>1533.73</td>\n",
       "      <td>6037.0</td>\n",
       "      <td>327853.46165</td>\n",
       "    </tr>\n",
       "  </tbody>\n",
       "</table>\n",
       "</div>"
      ],
      "text/plain": [
       "         bedrooms  bathrooms    area  tax_value  yearbuilt  taxamount    fips  \\\n",
       "894604        4.0        2.0  1694.0   393986.0     1972.0    5289.08  6111.0   \n",
       "221576        3.0        3.0  2284.0   411257.0     1990.0    5242.36  6037.0   \n",
       "2076710       3.0        2.5  1799.0    79563.0     1968.0     766.38  6059.0   \n",
       "1051549       3.0        1.0  1024.0    50267.0     1949.0     899.90  6037.0   \n",
       "1575944       2.0        1.0   660.0   120734.0     1924.0    1533.73  6037.0   \n",
       "\n",
       "             baseline  \n",
       "894604   327853.46165  \n",
       "221576   327853.46165  \n",
       "2076710  327853.46165  \n",
       "1051549  327853.46165  \n",
       "1575944  327853.46165  "
      ]
     },
     "execution_count": 47,
     "metadata": {},
     "output_type": "execute_result"
    }
   ],
   "source": [
    "train.head()"
   ]
  },
  {
   "cell_type": "code",
   "execution_count": 48,
   "id": "7db2c0af-4965-4d65-a563-54b9b17fe4f2",
   "metadata": {},
   "outputs": [],
   "source": [
    "X_train, X_validate = train[['area', 'taxamount']], validate[['area', 'taxamount']]"
   ]
  },
  {
   "cell_type": "code",
   "execution_count": 50,
   "id": "18ba675c-52e8-4d85-a3f1-50d7386fb24c",
   "metadata": {},
   "outputs": [
    {
     "data": {
      "text/plain": [
       "LinearRegression()"
      ]
     },
     "execution_count": 50,
     "metadata": {},
     "output_type": "execute_result"
    }
   ],
   "source": [
    "model = LinearRegression()\n",
    "\n",
    "model.fit(X_train, train.tax_value)"
   ]
  },
  {
   "cell_type": "code",
   "execution_count": 51,
   "id": "8f48783d-0d28-4810-86ed-fea0f5dc1b9a",
   "metadata": {},
   "outputs": [
    {
     "data": {
      "text/html": [
       "<div>\n",
       "<style scoped>\n",
       "    .dataframe tbody tr th:only-of-type {\n",
       "        vertical-align: middle;\n",
       "    }\n",
       "\n",
       "    .dataframe tbody tr th {\n",
       "        vertical-align: top;\n",
       "    }\n",
       "\n",
       "    .dataframe thead th {\n",
       "        text-align: right;\n",
       "    }\n",
       "</style>\n",
       "<table border=\"1\" class=\"dataframe\">\n",
       "  <thead>\n",
       "    <tr style=\"text-align: right;\">\n",
       "      <th></th>\n",
       "      <th>bedrooms</th>\n",
       "      <th>bathrooms</th>\n",
       "      <th>area</th>\n",
       "      <th>tax_value</th>\n",
       "      <th>yearbuilt</th>\n",
       "      <th>taxamount</th>\n",
       "      <th>fips</th>\n",
       "      <th>baseline</th>\n",
       "      <th>yhat</th>\n",
       "    </tr>\n",
       "  </thead>\n",
       "  <tbody>\n",
       "    <tr>\n",
       "      <th>894604</th>\n",
       "      <td>4.0</td>\n",
       "      <td>2.0</td>\n",
       "      <td>1694.0</td>\n",
       "      <td>393986.0</td>\n",
       "      <td>1972.0</td>\n",
       "      <td>5289.08</td>\n",
       "      <td>6111.0</td>\n",
       "      <td>327853.46165</td>\n",
       "      <td>432219.501181</td>\n",
       "    </tr>\n",
       "    <tr>\n",
       "      <th>221576</th>\n",
       "      <td>3.0</td>\n",
       "      <td>3.0</td>\n",
       "      <td>2284.0</td>\n",
       "      <td>411257.0</td>\n",
       "      <td>1990.0</td>\n",
       "      <td>5242.36</td>\n",
       "      <td>6037.0</td>\n",
       "      <td>327853.46165</td>\n",
       "      <td>432994.757351</td>\n",
       "    </tr>\n",
       "    <tr>\n",
       "      <th>2076710</th>\n",
       "      <td>3.0</td>\n",
       "      <td>2.5</td>\n",
       "      <td>1799.0</td>\n",
       "      <td>79563.0</td>\n",
       "      <td>1968.0</td>\n",
       "      <td>766.38</td>\n",
       "      <td>6059.0</td>\n",
       "      <td>327853.46165</td>\n",
       "      <td>47682.783052</td>\n",
       "    </tr>\n",
       "    <tr>\n",
       "      <th>1051549</th>\n",
       "      <td>3.0</td>\n",
       "      <td>1.0</td>\n",
       "      <td>1024.0</td>\n",
       "      <td>50267.0</td>\n",
       "      <td>1949.0</td>\n",
       "      <td>899.90</td>\n",
       "      <td>6037.0</td>\n",
       "      <td>327853.46165</td>\n",
       "      <td>52812.445329</td>\n",
       "    </tr>\n",
       "    <tr>\n",
       "      <th>1575944</th>\n",
       "      <td>2.0</td>\n",
       "      <td>1.0</td>\n",
       "      <td>660.0</td>\n",
       "      <td>120734.0</td>\n",
       "      <td>1924.0</td>\n",
       "      <td>1533.73</td>\n",
       "      <td>6037.0</td>\n",
       "      <td>327853.46165</td>\n",
       "      <td>103887.247909</td>\n",
       "    </tr>\n",
       "  </tbody>\n",
       "</table>\n",
       "</div>"
      ],
      "text/plain": [
       "         bedrooms  bathrooms    area  tax_value  yearbuilt  taxamount    fips  \\\n",
       "894604        4.0        2.0  1694.0   393986.0     1972.0    5289.08  6111.0   \n",
       "221576        3.0        3.0  2284.0   411257.0     1990.0    5242.36  6037.0   \n",
       "2076710       3.0        2.5  1799.0    79563.0     1968.0     766.38  6059.0   \n",
       "1051549       3.0        1.0  1024.0    50267.0     1949.0     899.90  6037.0   \n",
       "1575944       2.0        1.0   660.0   120734.0     1924.0    1533.73  6037.0   \n",
       "\n",
       "             baseline           yhat  \n",
       "894604   327853.46165  432219.501181  \n",
       "221576   327853.46165  432994.757351  \n",
       "2076710  327853.46165   47682.783052  \n",
       "1051549  327853.46165   52812.445329  \n",
       "1575944  327853.46165  103887.247909  "
      ]
     },
     "execution_count": 51,
     "metadata": {},
     "output_type": "execute_result"
    }
   ],
   "source": [
    "train['yhat'] = model.predict(X_train)\n",
    "train.head()"
   ]
  },
  {
   "cell_type": "code",
   "execution_count": 52,
   "id": "f93f2527-8c28-4a33-a227-267bcb22f996",
   "metadata": {},
   "outputs": [
    {
     "data": {
      "image/png": "[encoded data removed]",
      "text/plain": [
       "<Figure size 432x288 with 1 Axes>"
      ]
     },
     "metadata": {
      "needs_background": "light"
     },
     "output_type": "display_data"
    }
   ],
   "source": [
    "evaluate.plot_residuals(y_train, train.yhat)"
   ]
  },
  {
   "cell_type": "code",
   "execution_count": 53,
   "id": "01b7679b-8c09-49dd-abee-eff5278f333d",
   "metadata": {},
   "outputs": [],
   "source": [
    "SSE, ESS, TSS, MSE, RMSE = evaluate.regression_errors(y_train, train.yhat)"
   ]
  },
  {
   "cell_type": "code",
   "execution_count": 54,
   "id": "fe0cf5a0-5f93-4b41-a0b2-631cadb15362",
   "metadata": {},
   "outputs": [
    {
     "name": "stdout",
     "output_type": "stream",
     "text": [
      "SSE = 2431152354499814.5\n",
      "ESS = 3.8661170710652056e+16\n",
      "TSS = 4.109232306515187e+16\n",
      "MSE = 2341092853.517837\n",
      "RMSE = 48384.84115420694\n"
     ]
    }
   ],
   "source": [
    "print(f'SSE = {SSE}')\n",
    "print(f'ESS = {ESS}')\n",
    "print(f'TSS = {TSS}')\n",
    "print(f'MSE = {MSE}')\n",
    "print(f'RMSE = {RMSE}')"
   ]
  },
  {
   "cell_type": "code",
   "execution_count": 55,
   "id": "fde5281d-3103-4999-8879-5401e01373f1",
   "metadata": {},
   "outputs": [],
   "source": [
    "SSE_baseline, MSE_baseline, RMSE_baseline = evaluate.baseline_mean_errors(y_train)"
   ]
  },
  {
   "cell_type": "code",
   "execution_count": 56,
   "id": "ee1eefac-79fa-4b8c-89b1-4e4527ae825f",
   "metadata": {},
   "outputs": [
    {
     "name": "stdout",
     "output_type": "stream",
     "text": [
      "SSE_basline = 4.109232306515187e+16\n",
      "MSE_baseline = 39570100855.34751\n",
      "RMSE_baseline = 198922.3488081405\n"
     ]
    }
   ],
   "source": [
    "print(f'SSE_basline = {SSE_baseline}')\n",
    "print(f'MSE_baseline = {MSE_baseline}')\n",
    "print(f'RMSE_baseline = {RMSE_baseline}')"
   ]
  },
  {
   "cell_type": "code",
   "execution_count": 57,
   "id": "9ebdb331-842e-4f24-a76e-addc3730a4e8",
   "metadata": {},
   "outputs": [
    {
     "data": {
      "text/plain": [
       "True"
      ]
     },
     "execution_count": 57,
     "metadata": {},
     "output_type": "execute_result"
    }
   ],
   "source": [
    "evaluate.better_than_baseline(y_train, train.yhat)"
   ]
  },
  {
   "cell_type": "code",
   "execution_count": 58,
   "id": "efc4c852-70f0-412b-9533-000637fbc8b2",
   "metadata": {},
   "outputs": [
    {
     "data": {
      "text/plain": [
       "0.9408368236897869"
      ]
     },
     "execution_count": 58,
     "metadata": {},
     "output_type": "execute_result"
    }
   ],
   "source": [
    "new_r2 = r2_score(y_train, train.yhat)\n",
    "new_r2"
   ]
  },
  {
   "cell_type": "code",
   "execution_count": null,
   "id": "37f18333-b6c6-4026-8c85-5b68d347f2bb",
   "metadata": {},
   "outputs": [],
   "source": []
  }
 ],
 "metadata": {
  "kernelspec": {
   "display_name": "Python 3 (ipykernel)",
   "language": "python",
   "name": "python3"
  },
  "language_info": {
   "codemirror_mode": {
    "name": "ipython",
    "version": 3
   },
   "file_extension": ".py",
   "mimetype": "text/x-python",
   "name": "python",
   "nbconvert_exporter": "python",
   "pygments_lexer": "ipython3",
   "version": "3.9.12"
  }
 },
 "nbformat": 4,
 "nbformat_minor": 5
}
